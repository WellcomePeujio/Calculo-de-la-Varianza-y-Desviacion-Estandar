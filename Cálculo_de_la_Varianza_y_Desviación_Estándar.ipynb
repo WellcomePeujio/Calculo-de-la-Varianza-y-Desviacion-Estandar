{
  "nbformat": 4,
  "nbformat_minor": 0,
  "metadata": {
    "colab": {
      "private_outputs": true,
      "provenance": [],
      "authorship_tag": "ABX9TyNpTJgeIaZUszdW6WNTkyXN",
      "include_colab_link": true
    },
    "kernelspec": {
      "name": "python3",
      "display_name": "Python 3"
    },
    "language_info": {
      "name": "python"
    }
  },
  "cells": [
    {
      "cell_type": "markdown",
      "metadata": {
        "id": "view-in-github",
        "colab_type": "text"
      },
      "source": [
        "<a href=\"https://colab.research.google.com/github/WellcomePeujio/Calculo-de-la-Varianza-y-Desviacion-Estandar/blob/main/C%C3%A1lculo_de_la_Varianza_y_Desviaci%C3%B3n_Est%C3%A1ndar.ipynb\" target=\"_parent\"><img src=\"https://colab.research.google.com/assets/colab-badge.svg\" alt=\"Open In Colab\"/></a>"
      ]
    },
    {
      "cell_type": "markdown",
      "source": [
        "# Cálculo de la Varianza y Desviación Estándar\n",
        "\n",
        "**Problema**: Un analista de datos está estudiando los tiempos de respuesta de una API. Los tiempos registrados (en segundos) son:\n",
        "\n",
        "$$\n",
        "[1.2, 1.5, 1.7, 1.3, 1.8]\n",
        "$$\n",
        "\n",
        "**Preguntas**:\n",
        "\n",
        "1. Calcula la **media**, **varianza** y **desviación estándar** de los tiempos de respuesta.\n",
        "2. Interpreta los resultados: ¿los tiempos son consistentes o hay mucha variabilidad?\n"
      ],
      "metadata": {
        "id": "ny76gg-oPJLa"
      }
    },
    {
      "cell_type": "markdown",
      "source": [
        "# Resolución del Cálculo de la Varianza y Desviación Estándar\n",
        "\n",
        "## Paso 1: Cálculo de la Media\n",
        "\n",
        "La **media** $(\\bar{x})$ se calcula sumando todos los valores y dividiendo por el número total de observaciones:\n",
        "\n",
        "$$\n",
        "\\bar{x} = \\frac{\\sum x_i}{n}\n",
        "$$\n",
        "\n",
        "Donde:\n",
        "- $x_i$ son los tiempos de respuesta,\n",
        "- $n$ es el número de observaciones.\n",
        "\n",
        "Sustituyendo los valores:\n",
        "\n",
        "$$\n",
        "\\bar{x} = \\frac{1.2 + 1.5 + 1.7 + 1.3 + 1.8}{5} = \\frac{7.5}{5} = 1.5\n",
        "$$\n",
        "\n",
        "La media es **1.5 segundos**.\n",
        "\n",
        "## Paso 2: Cálculo de la Varianza\n",
        "\n",
        "La **varianza** $(\\sigma^2)$ mide la dispersión de los datos y se calcula usando la siguiente fórmula:\n",
        "\n",
        "$$\n",
        "\\sigma^2 = \\frac{\\sum (x_i - \\bar{x})^2}{n}\n",
        "$$\n",
        "\n",
        "Sustituyendo los valores:\n",
        "\n",
        "- $(1.2 - 1.5)^2 = 0.09$\n",
        "- $(1.5 - 1.5)^2 = 0.00$\n",
        "- $(1.7 - 1.5)^2 = 0.04$\n",
        "- $(1.3 - 1.5)^2 = 0.04$\n",
        "- $(1.8 - 1.5)^2 = 0.09$\n",
        "\n",
        "Sumamos estos valores:\n",
        "\n",
        "$$\n",
        "\\sigma^2 = \\frac{0.09 + 0.00 + 0.04 + 0.04 + 0.09}{5} = \\frac{0.26}{5} = 0.052\n",
        "$$\n",
        "\n",
        "La varianza es **0.052 segundos^2**.\n",
        "\n",
        "## Paso 3: Cálculo de la Desviación Estándar\n",
        "\n",
        "La **desviación estándar** $(\\sigma)$ es la raíz cuadrada de la varianza:\n",
        "\n",
        "$$\n",
        "\\sigma = \\sqrt{\\sigma^2} = \\sqrt{0.052} \\approx 0.228\n",
        "$$\n",
        "\n",
        "La desviación estándar es **0.228 segundos**.\n",
        "\n",
        "## Interpretación\n",
        "\n",
        "- La media de los tiempos de respuesta es **1.5 segundos**, lo que representa el tiempo promedio.\n",
        "\n",
        "- La varianza y la desviación estándar son relativamente bajas, lo que indica poca dispersión en los tiempos de respuesta.\n",
        "\n",
        "- Esto sugiere que los tiempos de respuesta son **consistentes** y no presentan mucha variabilidad.\n"
      ],
      "metadata": {
        "id": "RNJlQ8LGPS-A"
      }
    },
    {
      "cell_type": "code",
      "source": [
        "import numpy as np\n",
        "import matplotlib.pyplot as plt\n",
        "\n",
        "# Datos del problema\n",
        "tiempos = np.array([1.2, 1.5, 1.7, 1.3, 1.8])\n",
        "\n",
        "# Cálculo de la media, varianza y desviación estándar\n",
        "media = np.mean(tiempos)\n",
        "varianza = np.var(tiempos)\n",
        "desviacion_estandar = np.std(tiempos)\n",
        "\n",
        "# Crear un gráfico de línea para mostrar la evolución de los tiempos de respuesta\n",
        "plt.figure(figsize=(10, 6))\n",
        "plt.plot(tiempos, marker='o', linestyle='-', color='blue', label='Tiempos de Respuesta')\n",
        "plt.axhline(y=media, color='red', linestyle='--', label=f'Media = {media:.2f} s')\n",
        "plt.fill_between(range(len(tiempos)), media - desviacion_estandar, media + desviacion_estandar,\n",
        "                 color='lightgray', alpha=0.3, label='Rango de 1 Desviación Estándar')\n",
        "plt.xlabel('Observaciones')\n",
        "plt.ylabel('Tiempo de Respuesta (s)')\n",
        "plt.title('Evolución de los Tiempos de Respuesta de la API')\n",
        "plt.legend(fontsize=12)\n",
        "plt.grid(True)\n",
        "plt.show()\n",
        "\n",
        "# Mostrar resultados numéricos\n",
        "media, varianza, desviacion_estandar"
      ],
      "metadata": {
        "id": "-2CAg_2HPlBp"
      },
      "execution_count": null,
      "outputs": []
    }
  ]
}